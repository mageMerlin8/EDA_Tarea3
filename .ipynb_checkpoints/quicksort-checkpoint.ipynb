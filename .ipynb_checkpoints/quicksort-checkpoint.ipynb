{
 "cells": [
  {
   "cell_type": "code",
   "execution_count": 1,
   "metadata": {},
   "outputs": [],
   "source": [
    "%run funcionesPruebas.ipynb\n",
    "import matplotlib.pyplot as plt"
   ]
  },
  {
   "cell_type": "code",
   "execution_count": 78,
   "metadata": {},
   "outputs": [],
   "source": [
    "def quickSort(arr):\n",
    "    if len(arr) > 1:\n",
    "        pivote = partition(arr)\n",
    "        quickSort(arr[:pivote])\n",
    "        quickSort(arr[pivote:])\n",
    "    return arr\n",
    "\n",
    "def partition(arr):\n",
    "    pivote = arr[len(arr) - 1]\n",
    "    posPivote = -1\n",
    "    for j in range(len(arr)-1):\n",
    "        if(arr[j] <= pivote):\n",
    "            posPivote += 1\n",
    "            arr[j], arr[posPivote] = arr[posPivote], arr[j]\n",
    "    posPivote += 1\n",
    "    arr[posPivote], arr[len(arr) - 1] = arr[len(arr) - 1], arr[posPivote]\n",
    "    \"\"\"\n",
    "    Esto se usó durante las pruebas para checar las variables durante la ejecución\n",
    "    print('Pivote: ' + str(arr[posPivote]) + ' pos:' + str(posPivote))\n",
    "    print('Left: ' + str(arr[:posPivote]))\n",
    "    print('Right: ' + str(arr[posPivote:]))\n",
    "    \"\"\"\n",
    "    \n",
    "    return posPivote\n"
   ]
  },
  {
   "cell_type": "code",
   "execution_count": 79,
   "metadata": {},
   "outputs": [
    {
     "data": {
      "text/plain": [
       "array([ 0,  5,  8,  3,  8, 18,  3, 13,  0,  0])"
      ]
     },
     "execution_count": 79,
     "metadata": {},
     "output_type": "execute_result"
    }
   ],
   "source": [
    "arreglo = createIntArray(10)\n",
    "arreglo"
   ]
  },
  {
   "cell_type": "code",
   "execution_count": 80,
   "metadata": {},
   "outputs": [
    {
     "data": {
      "text/plain": [
       "array([ 0,  0,  0,  3,  3,  5,  8,  8, 13, 18])"
      ]
     },
     "execution_count": 80,
     "metadata": {},
     "output_type": "execute_result"
    }
   ],
   "source": [
    "quickSort(arreglo)"
   ]
  },
  {
   "cell_type": "code",
   "execution_count": 86,
   "metadata": {},
   "outputs": [],
   "source": [
    "px = [100000, 200000, 300000, 400000, 500000]\n",
    "resultados = correPruebas(quickSort, px)"
   ]
  },
  {
   "cell_type": "code",
   "execution_count": 87,
   "metadata": {},
   "outputs": [
    {
     "name": "stdout",
     "output_type": "stream",
     "text": [
      "True\n"
     ]
    }
   ],
   "source": [
    "print(checaResultados(resultados))\n"
   ]
  },
  {
   "cell_type": "code",
   "execution_count": 88,
   "metadata": {},
   "outputs": [
    {
     "data": {
      "image/png": "[encoded data removed]",
      "text/plain": [
       "<Figure size 432x288 with 1 Axes>"
      ]
     },
     "metadata": {
      "needs_background": "light"
     },
     "output_type": "display_data"
    }
   ],
   "source": [
    "plotResults(resultados, 'o')"
   ]
  },
  {
   "cell_type": "code",
   "execution_count": null,
   "metadata": {},
   "outputs": [],
   "source": []
  }
 ],
 "metadata": {
  "kernelspec": {
   "display_name": "Python 3",
   "language": "python",
   "name": "python3"
  },
  "language_info": {
   "codemirror_mode": {
    "name": "ipython",
    "version": 3
   },
   "file_extension": ".py",
   "mimetype": "text/x-python",
   "name": "python",
   "nbconvert_exporter": "python",
   "pygments_lexer": "ipython3",
   "version": "3.6.5"
  }
 },
 "nbformat": 4,
 "nbformat_minor": 2
}
