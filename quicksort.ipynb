{
 "cells": [
  {
   "cell_type": "code",
   "execution_count": 12,
   "metadata": {},
   "outputs": [],
   "source": [
    "%run funcionesPruebas.ipynb\n",
    "import matplotlib.pyplot as plt"
   ]
  },
  {
   "cell_type": "code",
   "execution_count": 13,
   "metadata": {},
   "outputs": [],
   "source": [
    "def quickSortCount(arr, sup = 1):\n",
    "    if len(arr) > 1:\n",
    "        pivote = partitionCount(arr, sup)\n",
    "        sup = max([quickSortCount(arr[:pivote], sup+1)['sup'], quickSortCount(arr[pivote:], sup+1)['sup']])\n",
    "    return {'arreglo':arr, 'sup':sup}\n",
    "\n",
    "\n",
    "def partitionCount(arr, num):\n",
    "    pivote = arr[len(arr) - 1]\n",
    "    posPivote = -1\n",
    "    for j in range(len(arr)-1):\n",
    "        if(arr[j] <= pivote):\n",
    "            posPivote += 1\n",
    "            arr[j], arr[posPivote] = arr[posPivote], arr[j]\n",
    "    posPivote += 1\n",
    "    arr[posPivote], arr[len(arr) - 1] = arr[len(arr) - 1], arr[posPivote]\n",
    "    \"\"\"\n",
    "    print('Depth: ' + str(num) + '  Pivote: ' + str(arr[posPivote]) + ' pos:' + str(posPivote))\n",
    "    print('Left: ' + str(arr[:posPivote]))\n",
    "    print('Right: ' + str(arr[posPivote:]))\n",
    "    \"\"\"\n",
    "    return posPivote\n",
    "\n",
    "\n",
    "def quickSort(arr):\n",
    "    if len(arr) > 1:\n",
    "        pivote = partition(arr)\n",
    "        quickSort(arr[:pivote])\n",
    "        quickSort(arr[pivote:])\n",
    "    return arr\n",
    "\n",
    "def partition(arr):\n",
    "    pivote = arr[len(arr) - 1]\n",
    "    posPivote = -1\n",
    "    for j in range(len(arr)-1):\n",
    "        if(arr[j] <= pivote):\n",
    "            posPivote += 1\n",
    "            arr[j], arr[posPivote] = arr[posPivote], arr[j]\n",
    "    posPivote += 1\n",
    "    arr[posPivote], arr[len(arr) - 1] = arr[len(arr) - 1], arr[posPivote]\n",
    "    \"\"\"\n",
    "    Esto se usó durante las pruebas para checar las variables durante la ejecución\n",
    "    print('Pivote: ' + str(arr[posPivote]) + ' pos:' + str(posPivote))\n",
    "    print('Left: ' + str(arr[:posPivote]))\n",
    "    print('Right: ' + str(arr[posPivote:]))\n",
    "    \"\"\"\n",
    "    \n",
    "    return posPivote\n"
   ]
  },
  {
   "cell_type": "code",
   "execution_count": null,
   "metadata": {},
   "outputs": [],
   "source": []
  },
  {
   "cell_type": "code",
   "execution_count": 6,
   "metadata": {},
   "outputs": [],
   "source": [
    "px = [10000, 100000, 1000000, 10000000]\n",
    "resultados = correPruebas(quickSort, px)"
   ]
  },
  {
   "cell_type": "code",
   "execution_count": 7,
   "metadata": {},
   "outputs": [
    {
     "name": "stdout",
     "output_type": "stream",
     "text": [
      "True\n"
     ]
    }
   ],
   "source": [
    "print(checaResultados(resultados))\n"
   ]
  },
  {
   "cell_type": "code",
   "execution_count": 8,
   "metadata": {},
   "outputs": [
    {
     "data": {
      "image/png": "[encoded data removed]",
      "text/plain": [
       "<Figure size 432x288 with 1 Axes>"
      ]
     },
     "metadata": {
      "needs_background": "light"
     },
     "output_type": "display_data"
    }
   ],
   "source": [
    "plotResults(resultados, 'o')"
   ]
  },
  {
   "cell_type": "code",
   "execution_count": 18,
   "metadata": {},
   "outputs": [],
   "source": [
    "%%capture\n",
    "arreglo = createIntArray(1000000)\n",
    "px = [createIntArray(2**i) for i in range(3,25)]"
   ]
  },
  {
   "cell_type": "code",
   "execution_count": 19,
   "metadata": {},
   "outputs": [
    {
     "name": "stdout",
     "output_type": "stream",
     "text": [
      "Arreglo de tamaño 8 tamaño máximo de la pila: 6\n",
      "Arreglo de tamaño 16 tamaño máximo de la pila: 9\n",
      "Arreglo de tamaño 32 tamaño máximo de la pila: 9\n",
      "Arreglo de tamaño 64 tamaño máximo de la pila: 11\n",
      "Arreglo de tamaño 128 tamaño máximo de la pila: 14\n",
      "Arreglo de tamaño 256 tamaño máximo de la pila: 20\n",
      "Arreglo de tamaño 512 tamaño máximo de la pila: 20\n",
      "Arreglo de tamaño 1024 tamaño máximo de la pila: 26\n",
      "Arreglo de tamaño 2048 tamaño máximo de la pila: 22\n",
      "Arreglo de tamaño 4096 tamaño máximo de la pila: 30\n",
      "Arreglo de tamaño 8192 tamaño máximo de la pila: 30\n",
      "Arreglo de tamaño 16384 tamaño máximo de la pila: 32\n",
      "Arreglo de tamaño 32768 tamaño máximo de la pila: 35\n",
      "Arreglo de tamaño 65536 tamaño máximo de la pila: 37\n",
      "Arreglo de tamaño 131072 tamaño máximo de la pila: 48\n",
      "Arreglo de tamaño 262144 tamaño máximo de la pila: 42\n",
      "Arreglo de tamaño 524288 tamaño máximo de la pila: 48\n",
      "Arreglo de tamaño 1048576 tamaño máximo de la pila: 53\n",
      "Arreglo de tamaño 2097152 tamaño máximo de la pila: 53\n",
      "Arreglo de tamaño 4194304 tamaño máximo de la pila: 57\n",
      "Arreglo de tamaño 8388608 tamaño máximo de la pila: 61\n"
     ]
    },
    {
     "name": "stderr",
     "output_type": "stream",
     "text": [
      "No handles with labels found to put in legend.\n"
     ]
    },
    {
     "name": "stdout",
     "output_type": "stream",
     "text": [
      "Arreglo de tamaño 16777216 tamaño máximo de la pila: 63\n"
     ]
    },
    {
     "data": {
      "text/plain": [
       "<matplotlib.legend.Legend at 0x7f1462968cc0>"
      ]
     },
     "execution_count": 19,
     "metadata": {},
     "output_type": "execute_result"
    },
    {
     "data": {
      "image/png": "[encoded data removed]",
      "text/plain": [
       "<Figure size 432x288 with 1 Axes>"
      ]
     },
     "metadata": {
      "needs_background": "light"
     },
     "output_type": "display_data"
    }
   ],
   "source": [
    "resultadosPila = []\n",
    "for arr in  px:\n",
    "    resp = quickSortCount(arr)\n",
    "    print('Arreglo de tamaño ' + str(len(resp['arreglo'])) + ' tamaño máximo de la pila: ' + str(resp['sup']))\n",
    "    plt.plot(len(arr), resp['sup'], 'o')\n",
    "    resultadosPila.append(resp)\n",
    "plt.ylabel('Tamaño pila (# elementos)')\n",
    "plt.xlabel('Tamaño del arreglo')"
   ]
  },
  {
   "cell_type": "code",
   "execution_count": 14,
   "metadata": {},
   "outputs": [
    {
     "name": "stdout",
     "output_type": "stream",
     "text": [
      "Arreglo de tamaño 10000 tamaño máximo de la pila: 36\n",
      "Arreglo de tamaño 100000 tamaño máximo de la pila: 41\n",
      "Arreglo de tamaño 1000000 tamaño máximo de la pila: 50\n",
      "Arreglo de tamaño 10000000 tamaño máximo de la pila: 62\n"
     ]
    },
    {
     "data": {
      "text/plain": [
       "Text(0.5,0,'Tamaño del arreglo')"
      ]
     },
     "execution_count": 14,
     "metadata": {},
     "output_type": "execute_result"
    },
    {
     "data": {
      "image/png": "[encoded data removed]",
      "text/plain": [
       "<Figure size 432x288 with 1 Axes>"
      ]
     },
     "metadata": {
      "needs_background": "light"
     },
     "output_type": "display_data"
    }
   ],
   "source": [
    "largos = [10000, 100000, 1000000, 10000000]\n",
    "px = [createIntArray(i) for i in largos]\n",
    "resultadosPila = []\n",
    "for arr in  px:\n",
    "    resp = quickSortCount(arr)\n",
    "    print('Arreglo de tamaño ' + str(len(resp['arreglo'])) + ' tamaño máximo de la pila: ' + str(resp['sup']))\n",
    "    plt.plot(len(arr), resp['sup'], 'o')\n",
    "    resultadosPila.append(resp)\n",
    "plt.ylabel('Tamaño pila (# elementos)')\n",
    "plt.xlabel('Tamaño del arreglo')"
   ]
  },
  {
   "cell_type": "code",
   "execution_count": 17,
   "metadata": {},
   "outputs": [
    {
     "data": {
      "image/png": "[encoded data removed]",
      "text/plain": [
       "<Figure size 432x288 with 1 Axes>"
      ]
     },
     "metadata": {
      "needs_background": "light"
     },
     "output_type": "display_data"
    }
   ],
   "source": [
    "gx = [len(i['arreglo']) for i in resultadosPila]\n",
    "gy = [i['sup'] for i in resultadosPila]\n",
    "\n",
    "for r in  resultadosPila:\n",
    "    plt.plot(len(r['arreglo']), r['sup'], 'o')\n",
    "plt.ylabel('Tamaño pila (# elementos)')\n",
    "plt.xlabel('Tamaño del arreglo')\n",
    "plt.grid()"
   ]
  },
  {
   "cell_type": "code",
   "execution_count": null,
   "metadata": {},
   "outputs": [],
   "source": []
  }
 ],
 "metadata": {
  "kernelspec": {
   "display_name": "Python 3",
   "language": "python",
   "name": "python3"
  },
  "language_info": {
   "codemirror_mode": {
    "name": "ipython",
    "version": 3
   },
   "file_extension": ".py",
   "mimetype": "text/x-python",
   "name": "python",
   "nbconvert_exporter": "python",
   "pygments_lexer": "ipython3",
   "version": "3.6.5"
  }
 },
 "nbformat": 4,
 "nbformat_minor": 2
}
